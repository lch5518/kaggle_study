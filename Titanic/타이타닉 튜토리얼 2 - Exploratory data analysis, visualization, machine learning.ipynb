{
 "cells": [
  {
   "cell_type": "code",
   "execution_count": 1,
   "metadata": {},
   "outputs": [],
   "source": [
    "import numpy as np\n",
    "import pandas as pd\n",
    "from pandas import Series\n",
    "import matplotlib.pyplot as plt\n",
    "import seaborn as sns\n",
    "\n",
    "plt.style.use('seaborn')\n",
    "sns.set(font_scale=2.5)"
   ]
  },
  {
   "cell_type": "code",
   "execution_count": 3,
   "metadata": {},
   "outputs": [
    {
     "data": {
      "text/html": [
       "        <script type=\"text/javascript\">\n",
       "        window.PlotlyConfig = {MathJaxConfig: 'local'};\n",
       "        if (window.MathJax) {MathJax.Hub.Config({SVG: {font: \"STIX-Web\"}});}\n",
       "        if (typeof require !== 'undefined') {\n",
       "        require.undef(\"plotly\");\n",
       "        requirejs.config({\n",
       "            paths: {\n",
       "                'plotly': ['https://cdn.plot.ly/plotly-latest.min']\n",
       "            }\n",
       "        });\n",
       "        require(['plotly'], function(Plotly) {\n",
       "            window._Plotly = Plotly;\n",
       "        });\n",
       "        }\n",
       "        </script>\n",
       "        "
      ]
     },
     "metadata": {},
     "output_type": "display_data"
    }
   ],
   "source": [
    "import plotly.offline as py\n",
    "py.init_notebook_mode(connected=True)\n",
    "import plotly.graph_objs as go\n",
    "import plotly.tools as tls\n",
    "\n",
    "import warnings\n",
    "warnings.filterwarnings('ignore')"
   ]
  },
  {
   "cell_type": "code",
   "execution_count": 4,
   "metadata": {},
   "outputs": [],
   "source": [
    "%matplotlib inline\n",
    "\n",
    "df_train = pd.read_csv('data/train.csv')\n",
    "df_test = pd.read_csv('data/test.csv')\n",
    "\n",
    "df_train['FamilySize'] = df_train['SibSp'] + df_train['Parch'] + 1 #  + 1 : 자신\n",
    "df_test['FamilySize'] = df_test['SibSp'] + df_test['Parch'] + 1\n",
    "\n",
    "# null값 평균값 대치\n",
    "df_test.loc[df_test.Fare.isnull(), 'Fare'] = df_test['Fare'].mean()\n",
    "\n",
    "df_train['Fare'] = df_train['Fare'].map(lambda i : np.log(i) if i > 0 else 0)\n",
    "df_test['Fare'] = df_test['Fare'].map(lambda i : np.log(i) if i > 0 else 0)"
   ]
  },
  {
   "cell_type": "markdown",
   "metadata": {},
   "source": [
    "### 3.1 Fill Null\n",
    "#### 3.1.1 Fill Null in Age using title\n",
    "* Age 에는 null data가 177개나 있습니다. 이를 채울 수 있는 여러 아이디어가 있을 것인데, 여기서 우리는 title + statistics 를 사용해 보겠습니다.\n",
    "* 영어에는 Miss, Mrr, Mrs 같은 title 이 존재합니다. 각 탑승객의 이름에는 꼭 이런 title 이 들어가게 되는데 이를 사용해보겠습니다.\n",
    "* pandas series 에는 data를 string 으로 바꿔주는 strmethod, 거기에 정규포현식을 적용하ㅏ게 해주는 extractmethod 가 있습니다. 이를 사용하여 title 을 쉽게 추출할 수 있습니다. title 을 Initial column에 저장하겠습니다."
   ]
  },
  {
   "cell_type": "code",
   "execution_count": 6,
   "metadata": {},
   "outputs": [],
   "source": [
    "# lets extract the salutations\n",
    "df_train['Initial'] = df_train.Name.str.extract('([A-Za-z]+)\\.')\n",
    "df_train['Initial'] = df_test.Name.str.extract('([A-Za-z]+)\\.')"
   ]
  },
  {
   "cell_type": "markdown",
   "metadata": {},
   "source": [
    "* pandas 의 crosstab 을 이용하여 우리가 추출한 Initial 과 Sex 간의 count 를 살펴봅시다."
   ]
  },
  {
   "cell_type": "code",
   "execution_count": 7,
   "metadata": {},
   "outputs": [
    {
     "data": {
      "text/html": [
       "<style  type=\"text/css\" >\n",
       "    #T_24a5257e_5dfe_11ea_b475_983b8fafc958row0_col0 {\n",
       "            background-color:  #ffff66;\n",
       "            color:  #000000;\n",
       "        }    #T_24a5257e_5dfe_11ea_b475_983b8fafc958row0_col1 {\n",
       "            background-color:  #ffff66;\n",
       "            color:  #000000;\n",
       "        }    #T_24a5257e_5dfe_11ea_b475_983b8fafc958row0_col2 {\n",
       "            background-color:  #008066;\n",
       "            color:  #f1f1f1;\n",
       "        }    #T_24a5257e_5dfe_11ea_b475_983b8fafc958row0_col3 {\n",
       "            background-color:  #ffff66;\n",
       "            color:  #000000;\n",
       "        }    #T_24a5257e_5dfe_11ea_b475_983b8fafc958row0_col4 {\n",
       "            background-color:  #ffff66;\n",
       "            color:  #000000;\n",
       "        }    #T_24a5257e_5dfe_11ea_b475_983b8fafc958row0_col5 {\n",
       "            background-color:  #ffff66;\n",
       "            color:  #000000;\n",
       "        }    #T_24a5257e_5dfe_11ea_b475_983b8fafc958row0_col6 {\n",
       "            background-color:  #ffff66;\n",
       "            color:  #000000;\n",
       "        }    #T_24a5257e_5dfe_11ea_b475_983b8fafc958row0_col7 {\n",
       "            background-color:  #008066;\n",
       "            color:  #f1f1f1;\n",
       "        }    #T_24a5257e_5dfe_11ea_b475_983b8fafc958row0_col8 {\n",
       "            background-color:  #ffff66;\n",
       "            color:  #000000;\n",
       "        }    #T_24a5257e_5dfe_11ea_b475_983b8fafc958row1_col0 {\n",
       "            background-color:  #008066;\n",
       "            color:  #f1f1f1;\n",
       "        }    #T_24a5257e_5dfe_11ea_b475_983b8fafc958row1_col1 {\n",
       "            background-color:  #008066;\n",
       "            color:  #f1f1f1;\n",
       "        }    #T_24a5257e_5dfe_11ea_b475_983b8fafc958row1_col2 {\n",
       "            background-color:  #ffff66;\n",
       "            color:  #000000;\n",
       "        }    #T_24a5257e_5dfe_11ea_b475_983b8fafc958row1_col3 {\n",
       "            background-color:  #008066;\n",
       "            color:  #f1f1f1;\n",
       "        }    #T_24a5257e_5dfe_11ea_b475_983b8fafc958row1_col4 {\n",
       "            background-color:  #008066;\n",
       "            color:  #f1f1f1;\n",
       "        }    #T_24a5257e_5dfe_11ea_b475_983b8fafc958row1_col5 {\n",
       "            background-color:  #008066;\n",
       "            color:  #f1f1f1;\n",
       "        }    #T_24a5257e_5dfe_11ea_b475_983b8fafc958row1_col6 {\n",
       "            background-color:  #008066;\n",
       "            color:  #f1f1f1;\n",
       "        }    #T_24a5257e_5dfe_11ea_b475_983b8fafc958row1_col7 {\n",
       "            background-color:  #ffff66;\n",
       "            color:  #000000;\n",
       "        }    #T_24a5257e_5dfe_11ea_b475_983b8fafc958row1_col8 {\n",
       "            background-color:  #008066;\n",
       "            color:  #f1f1f1;\n",
       "        }</style><table id=\"T_24a5257e_5dfe_11ea_b475_983b8fafc958\" ><thead>    <tr>        <th class=\"index_name level0\" >Initial</th>        <th class=\"col_heading level0 col0\" >Col</th>        <th class=\"col_heading level0 col1\" >Dona</th>        <th class=\"col_heading level0 col2\" >Dr</th>        <th class=\"col_heading level0 col3\" >Master</th>        <th class=\"col_heading level0 col4\" >Miss</th>        <th class=\"col_heading level0 col5\" >Mr</th>        <th class=\"col_heading level0 col6\" >Mrs</th>        <th class=\"col_heading level0 col7\" >Ms</th>        <th class=\"col_heading level0 col8\" >Rev</th>    </tr>    <tr>        <th class=\"index_name level0\" >Sex</th>        <th class=\"blank\" ></th>        <th class=\"blank\" ></th>        <th class=\"blank\" ></th>        <th class=\"blank\" ></th>        <th class=\"blank\" ></th>        <th class=\"blank\" ></th>        <th class=\"blank\" ></th>        <th class=\"blank\" ></th>        <th class=\"blank\" ></th>    </tr></thead><tbody>\n",
       "                <tr>\n",
       "                        <th id=\"T_24a5257e_5dfe_11ea_b475_983b8fafc958level0_row0\" class=\"row_heading level0 row0\" >female</th>\n",
       "                        <td id=\"T_24a5257e_5dfe_11ea_b475_983b8fafc958row0_col0\" class=\"data row0 col0\" >0</td>\n",
       "                        <td id=\"T_24a5257e_5dfe_11ea_b475_983b8fafc958row0_col1\" class=\"data row0 col1\" >0</td>\n",
       "                        <td id=\"T_24a5257e_5dfe_11ea_b475_983b8fafc958row0_col2\" class=\"data row0 col2\" >1</td>\n",
       "                        <td id=\"T_24a5257e_5dfe_11ea_b475_983b8fafc958row0_col3\" class=\"data row0 col3\" >6</td>\n",
       "                        <td id=\"T_24a5257e_5dfe_11ea_b475_983b8fafc958row0_col4\" class=\"data row0 col4\" >26</td>\n",
       "                        <td id=\"T_24a5257e_5dfe_11ea_b475_983b8fafc958row0_col5\" class=\"data row0 col5\" >95</td>\n",
       "                        <td id=\"T_24a5257e_5dfe_11ea_b475_983b8fafc958row0_col6\" class=\"data row0 col6\" >31</td>\n",
       "                        <td id=\"T_24a5257e_5dfe_11ea_b475_983b8fafc958row0_col7\" class=\"data row0 col7\" >1</td>\n",
       "                        <td id=\"T_24a5257e_5dfe_11ea_b475_983b8fafc958row0_col8\" class=\"data row0 col8\" >0</td>\n",
       "            </tr>\n",
       "            <tr>\n",
       "                        <th id=\"T_24a5257e_5dfe_11ea_b475_983b8fafc958level0_row1\" class=\"row_heading level0 row1\" >male</th>\n",
       "                        <td id=\"T_24a5257e_5dfe_11ea_b475_983b8fafc958row1_col0\" class=\"data row1 col0\" >2</td>\n",
       "                        <td id=\"T_24a5257e_5dfe_11ea_b475_983b8fafc958row1_col1\" class=\"data row1 col1\" >1</td>\n",
       "                        <td id=\"T_24a5257e_5dfe_11ea_b475_983b8fafc958row1_col2\" class=\"data row1 col2\" >0</td>\n",
       "                        <td id=\"T_24a5257e_5dfe_11ea_b475_983b8fafc958row1_col3\" class=\"data row1 col3\" >15</td>\n",
       "                        <td id=\"T_24a5257e_5dfe_11ea_b475_983b8fafc958row1_col4\" class=\"data row1 col4\" >52</td>\n",
       "                        <td id=\"T_24a5257e_5dfe_11ea_b475_983b8fafc958row1_col5\" class=\"data row1 col5\" >145</td>\n",
       "                        <td id=\"T_24a5257e_5dfe_11ea_b475_983b8fafc958row1_col6\" class=\"data row1 col6\" >41</td>\n",
       "                        <td id=\"T_24a5257e_5dfe_11ea_b475_983b8fafc958row1_col7\" class=\"data row1 col7\" >0</td>\n",
       "                        <td id=\"T_24a5257e_5dfe_11ea_b475_983b8fafc958row1_col8\" class=\"data row1 col8\" >2</td>\n",
       "            </tr>\n",
       "    </tbody></table>"
      ],
      "text/plain": [
       "<pandas.io.formats.style.Styler at 0x2545f43ccf8>"
      ]
     },
     "execution_count": 7,
     "metadata": {},
     "output_type": "execute_result"
    }
   ],
   "source": [
    "pd.crosstab(df_train['Initial'], df_train['Sex']).T.style.background_gradient(cmap='summer_r')"
   ]
  },
  {
   "cell_type": "markdown",
   "metadata": {},
   "source": [
    "* 위 table 을 참고하여, 남자, 여자가 쓰는 initial 을 구분해 보겠습니다. replace 메소드를 사용하면, 특정 데이터 값을 원하는 값으로 치환해줍니다. "
   ]
  },
  {
   "cell_type": "code",
   "execution_count": null,
   "metadata": {},
   "outputs": [],
   "source": []
  }
 ],
 "metadata": {
  "kernelspec": {
   "display_name": "Python 3",
   "language": "python",
   "name": "python3"
  },
  "language_info": {
   "codemirror_mode": {
    "name": "ipython",
    "version": 3
   },
   "file_extension": ".py",
   "mimetype": "text/x-python",
   "name": "python",
   "nbconvert_exporter": "python",
   "pygments_lexer": "ipython3",
   "version": "3.7.3"
  }
 },
 "nbformat": 4,
 "nbformat_minor": 2
}
